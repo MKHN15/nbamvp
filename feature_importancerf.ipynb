{
 "cells": [
  {
   "cell_type": "code",
   "execution_count": 1,
   "id": "normal-seven",
   "metadata": {},
   "outputs": [],
   "source": [
    "%matplotlib inline\n",
    "\n",
    "import pandas as pd\n",
    "import numpy as np\n",
    "import matplotlib.pyplot as plt\n",
    "from sklearn.model_selection import train_test_split\n",
    "from sklearn.neural_network import MLPRegressor\n",
    "from sklearn.ensemble import RandomForestRegressor\n",
    "from sklearn import neighbors\n",
    "from sklearn.metrics import mean_squared_error, r2_score\n",
    "from sklearn.model_selection import KFold\n",
    "from scipy.stats import norm\n",
    "from operator import itemgetter\n",
    "from sklearn.model_selection import cross_val_score"
   ]
  },
  {
   "cell_type": "code",
   "execution_count": 2,
   "id": "clinical-domestic",
   "metadata": {},
   "outputs": [],
   "source": [
    "dfHistorical = pd.read_csv('Historical_MVPdata.csv')\n",
    "dfCurrent = pd.read_csv('CurrentMVP.csv')"
   ]
  },
  {
   "cell_type": "code",
   "execution_count": 3,
   "id": "injured-sculpture",
   "metadata": {},
   "outputs": [],
   "source": [
    "train, test = train_test_split(dfHistorical, test_size = 0.25, random_state = 10)\n",
    "\n",
    "xtrain = train[['G', 'Team Wins', 'MP', 'WS/48', 'BPM', '3P%', 'FT%', 'BLK', 'STL', 'Overall Seed', 'PTS', 'TRB', 'AST', 'FG%', 'VORP', 'WS']]\n",
    "ytrain = train[['Share']]\n",
    "\n",
    "xtest = test[['G', 'Team Wins', 'MP', 'WS/48', 'BPM', '3P%', 'FT%', 'BLK', 'STL', 'Overall Seed', 'PTS', 'TRB', 'AST', 'FG%', 'VORP', 'WS']]\n",
    "ytest = test[['Share']]"
   ]
  },
  {
   "cell_type": "code",
   "execution_count": 4,
   "id": "unlike-soundtrack",
   "metadata": {},
   "outputs": [],
   "source": [
    "def scores(y, model):\n",
    "    \n",
    "    model.fit(xtrain, ytrain.values.ravel())\n",
    "    y_pred = model.predict(xtest)\n",
    "    \n",
    "    print(\"Mean squared error: %.3f\" % mean_squared_error(ytest, y_pred))\n",
    "    print('R2 score: %.3f' % r2_score(ytest, y_pred))\n",
    "\n",
    "    cvScore = cross_val_score(model, xtest, ytest.values.ravel(), cv = 3, scoring = 'r2')\n",
    "    print(\"R2 cross validation score: %0.2f (+/- %0.2f)\" % (cvScore.mean(), cvScore.std() * 2))\n",
    "    \n",
    "    for i in y_pred:\n",
    "        y.append(i)"
   ]
  },
  {
   "cell_type": "code",
   "execution_count": 5,
   "id": "spare-northern",
   "metadata": {},
   "outputs": [
    {
     "name": "stdout",
     "output_type": "stream",
     "text": [
      "Mean squared error: 0.031\n",
      "R2 score: 0.637\n",
      "R2 cross validation score: 0.51 (+/- 0.18)\n"
     ]
    }
   ],
   "source": [
    "rf = RandomForestRegressor(random_state = 200, n_estimators = 100, criterion = 'mse')\n",
    "\n",
    "y_rf = []\n",
    "\n",
    "scores(y_rf, rf)"
   ]
  },
  {
   "cell_type": "code",
   "execution_count": 15,
   "id": "engaged-bicycle",
   "metadata": {},
   "outputs": [
    {
     "data": {
      "image/png": "[encoded data removed]",
      "text/plain": [
       "<Figure size 432x288 with 1 Axes>"
      ]
     },
     "metadata": {},
     "output_type": "display_data"
    }
   ],
   "source": [
    "plt.style.use('fivethirtyeight')\n",
    "rf.feature_importances_\n",
    "sorted_idx = rf.feature_importances_.argsort()\n",
    "plt.barh(xtrain.columns[sorted_idx], rf.feature_importances_[sorted_idx], color= 'palegreen', edgecolor= 'white', linewidth = 2)\n",
    "plt.savefig('RFfeatureimportance.jpeg', dpi = 400, bbox_inches = 'tight')"
   ]
  },
  {
   "cell_type": "code",
   "execution_count": null,
   "id": "worthy-spine",
   "metadata": {},
   "outputs": [],
   "source": []
  }
 ],
 "metadata": {
  "kernelspec": {
   "display_name": "Python 3",
   "language": "python",
   "name": "python3"
  },
  "language_info": {
   "codemirror_mode": {
    "name": "ipython",
    "version": 3
   },
   "file_extension": ".py",
   "mimetype": "text/x-python",
   "name": "python",
   "nbconvert_exporter": "python",
   "pygments_lexer": "ipython3",
   "version": "3.7.10"
  }
 },
 "nbformat": 4,
 "nbformat_minor": 5
}
